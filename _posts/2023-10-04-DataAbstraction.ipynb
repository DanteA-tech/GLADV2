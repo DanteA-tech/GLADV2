{
 "cells": [
  {
   "cell_type": "markdown",
   "metadata": {},
   "source": [
    "---\n",
    "toc: false\n",
    "comments: false\n",
    "layout: post\n",
    "title: Data Abstraction \n",
    "description: Team Teach Topics\n",
    "type: hacks\n",
    "courses: { compsci: {week: 6} }\n",
    "---"
   ]
  },
  {
   "cell_type": "markdown",
   "metadata": {},
   "source": [
    "Popcorn Hacks"
   ]
  },
  {
   "cell_type": "code",
   "execution_count": 3,
   "metadata": {},
   "outputs": [],
   "source": [
    "age = int(input(\"How old you??\"))\n",
    "if age <= 16:\n",
    "    print (\"You can Drive!!\")\n",
    "else:\n",
    "    print (\"Cant drive yet\")"
   ]
  },
  {
   "cell_type": "code",
   "execution_count": 11,
   "metadata": {},
   "outputs": [
    {
     "name": "stdout",
     "output_type": "stream",
     "text": [
      "[1, 2, 3, 4, 5]\n"
     ]
    }
   ],
   "source": [
    "SusList = [1, 2, 3, 4, 5]\n",
    "print(SusList)"
   ]
  },
  {
   "cell_type": "markdown",
   "metadata": {},
   "source": [
    "## Home Work"
   ]
  },
  {
   "cell_type": "code",
   "execution_count": 8,
   "metadata": {},
   "outputs": [
    {
     "name": "stdout",
     "output_type": "stream",
     "text": [
      "People in the list:\n",
      "Name: Ronnit, Age: 16\n",
      "Name: Ashwin, Age: 15\n",
      "Name: Jared, Age: 56\n",
      "\n",
      "Oldest person in the dictionary:\n",
      "The oldest person is Jared with age 56.\n"
     ]
    }
   ],
   "source": [
    "class Person:\n",
    "    def __init__(self, name, age):\n",
    "        self.name = name\n",
    "        self.age = age\n",
    "\n",
    "def print_people(people_list):\n",
    "    for person in people_list:\n",
    "        print(f\"Name: {person.name}, Age: {person.age}\")\n",
    "\n",
    "def find_oldest_person(people_dict):\n",
    "    if not people_dict:\n",
    "        print(\"The dictionary is empty.\")\n",
    "        return\n",
    "\n",
    "    oldest_person = max(people_dict, key=people_dict.get)\n",
    "    print(f\"The oldest person is {oldest_person} with age {people_dict[oldest_person]}.\")\n",
    "\n",
    "person1 = Person(\"Ronnit\", 16)\n",
    "person2 = Person(\"Ashwin\", 15)\n",
    "person3 = Person(\"Jared\", 56)\n",
    "\n",
    "people_list = [person1, person2, person3]\n",
    "\n",
    "people_dict = {\n",
    "    \"Ronnit\": 16,\n",
    "    \"Vance\": 15,\n",
    "    \"Jared\": 56\n",
    "}\n",
    "\n",
    "print(\"People in the list:\")\n",
    "print_people(people_list)\n",
    "\n",
    "print(\"\\nOldest person in the dictionary:\")\n",
    "find_oldest_person(people_dict)\n"
   ]
  }
 ],
 "metadata": {
  "kernelspec": {
   "display_name": "Python 3",
   "language": "python",
   "name": "python3"
  },
  "language_info": {
   "codemirror_mode": {
    "name": "ipython",
    "version": 3
   },
   "file_extension": ".py",
   "mimetype": "text/x-python",
   "name": "python",
   "nbconvert_exporter": "python",
   "pygments_lexer": "ipython3",
   "version": "3.10.12"
  },
  "orig_nbformat": 4
 },
 "nbformat": 4,
 "nbformat_minor": 2
}
