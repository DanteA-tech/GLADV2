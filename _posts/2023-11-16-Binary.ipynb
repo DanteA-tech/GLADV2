{
 "cells": [
  {
   "cell_type": "markdown",
   "metadata": {},
   "source": [
    "---\n",
    "toc: true\n",
    "comments: true\n",
    "layout: \n",
    "title: Binary\n",
    "description: false\n",
    "type: hacks\n",
    "courses: { compsci: {week: 1} }\n",
    "---"
   ]
  },
  {
   "cell_type": "code",
   "execution_count": 2,
   "metadata": {},
   "outputs": [
    {
     "name": "stdout",
     "output_type": "stream",
     "text": [
      "Guess the decimal equivalent of the following binary number:\n",
      "Binary Number: 11010001\n",
      "Sorry, the correct answer is 209. Better luck next time!\n"
     ]
    }
   ],
   "source": [
    "import random\n",
    "\n",
    "def binary_to_decimal(binary_str):\n",
    "    # Check if the input is a valid binary string\n",
    "    if not all(bit in '01' for bit in binary_str):\n",
    "        return \"Invalid binary input. Please provide a string containing only 0s and 1s.\"\n",
    "\n",
    "    # Convert binary to decimal\n",
    "    decimal = int(binary_str, 2)\n",
    "    return decimal\n",
    "\n",
    "# Generate a random binary number of length 8\n",
    "random_binary = ''.join(random.choice('01') for _ in range(8))\n",
    "\n",
    "print(\"Guess the decimal equivalent of the following binary number:\")\n",
    "print(f\"Binary Number: {random_binary}\")\n",
    "\n",
    "# Ask the user to guess and validate the input\n",
    "while True:\n",
    "    user_guess = input(\"Enter your guess for the decimal equivalent: \")\n",
    "\n",
    "    if not user_guess.isdigit():\n",
    "        print(\"Please enter a valid integer guess.\")\n",
    "        continue\n",
    "\n",
    "    user_guess = int(user_guess)\n",
    "    break\n",
    "\n",
    "# Get the actual decimal equivalent\n",
    "decimal_equivalent = binary_to_decimal(random_binary)\n",
    "\n",
    "# Check the user's guess\n",
    "if user_guess == decimal_equivalent:\n",
    "    print(\"Congratulations! Your guess is correct.\")\n",
    "else:\n",
    "    print(f\"Sorry, the correct answer is {decimal_equivalent}. Better luck next time!\")\n"
   ]
  }
 ],
 "metadata": {
  "kernelspec": {
   "display_name": "Python 3",
   "language": "python",
   "name": "python3"
  },
  "language_info": {
   "codemirror_mode": {
    "name": "ipython",
    "version": 3
   },
   "file_extension": ".py",
   "mimetype": "text/x-python",
   "name": "python",
   "nbconvert_exporter": "python",
   "pygments_lexer": "ipython3",
   "version": "3.10.12"
  }
 },
 "nbformat": 4,
 "nbformat_minor": 2
}
