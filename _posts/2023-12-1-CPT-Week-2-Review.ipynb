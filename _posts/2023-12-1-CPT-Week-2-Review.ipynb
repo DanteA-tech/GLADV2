{
 "cells": [
  {
   "cell_type": "markdown",
   "metadata": {},
   "source": [
    "---\n",
    "toc: true\n",
    "comments: true\n",
    "layout: notebook\n",
    "title: Week 2 CPT review\n",
    "description: false\n",
    "type: tangibles\n",
    "courses: { compsci: {week: 2} }\n",
    "---"
   ]
  },
  {
   "cell_type": "markdown",
   "metadata": {},
   "source": [
    "## Dante-RGB Image Adjsuter\n",
    "What I did: After our group met  with Mr. Mort he told me to include the hex values alongside the binary so it would be easier to understand. Since hex values are also related to RGB I added a feature to switch from the sliders to color wheels. The color wheels function the same as the sliders, the darker the color the higher the value. Something I could add is to the RGB color wheels I could add a circle indicating which part of the color wheel is selected. Also, I could add the binary and the hex value when switched to the color wheel mode. Some challenges that I faced were that originally the color wheels would load up but they would have no effect on the photo. I created a way to store the values that work in the same way as the binary sliders. My key commit was just adding the main code that uses the binary sliders and processes the image. Also another key commit was adding the RGB circles."
   ]
  },
  {
   "cell_type": "markdown",
   "metadata": {},
   "source": [
    "Binary Logic: The code uses binary logic to display the current RGB values. Also, the RGB values are converted into hexadecimals allowing for easier representation. Algorithms: The code uses Image processing, RBG adjustments. dynamic UI update, and UI toggle mode. The algorithms are used to process the images and implement the changes being made on the website. "
   ]
  },
  {
   "cell_type": "markdown",
   "metadata": {},
   "source": [
    "[Dante's Tangibles](https://dantea-tech.github.io/GLAD//2023/11/16/Binary.html)\n"
   ]
  },
  {
   "cell_type": "markdown",
   "metadata": {},
   "source": [
    "## Ashwin- ASCII Image Generator\n",
    "What Ashwin did: After our group met with Mr. Mort, he gave me some feed back on my Ascii Image generator. At first my generator lacked image scalability to be able to process different sized images. I then implemented these changes into my code by adding sliders. This way the scale and detail of the ascii image can be determined by the user. One issue that we had as a group, was our commits always having merge conflicts. This led to many problems when alot of changes would just randomly be deleted."
   ]
  },
  {
   "cell_type": "markdown",
   "metadata": {},
   "source": [
    "### Key Commits:\n",
    "My key commit was called Ascii Image, and it was when the bulk of the code was added. There were still some issues with this code, but they were all fixed slowly."
   ]
  },
  {
   "cell_type": "markdown",
   "metadata": {},
   "source": [
    "### Algorithm Logic\n",
    "The algorithm loads an image and resizes it to fit within the terminal. It processes each pixel and extracts its RGB values. Since ASCII characters can't represent colors, the RGB values are converted to a single grayscale value. The grayscale value is mapped to an ASCII character. For instance, darker pixels might map to characters like '#', while lighter ones might map to spaces or '.'.Finally, the algorithm generates a text-based representation of the image using the ASCII characters. Each character represents a \"block\" of the image, creating the illusion of the original picture. This process allows for basic image representation in text form using ASCII characters, where the choice of characters represents different shades of gray based on the intensity of the pixels in the original image.\n"
   ]
  },
  {
   "cell_type": "markdown",
   "metadata": {},
   "source": [
    "[Ashwin's Tangibles](https://dantea-tech.github.io/GLAD//2023/11/27/Ascii.html)"
   ]
  },
  {
   "cell_type": "markdown",
   "metadata": {},
   "source": [
    "## Lincoln- Binary to Decimal Converter Game\n",
    "What Lincoln did: After we met for our live review, I realized that a stright up converter would not work because the user would not actually learn how to do the conversions them selves and it would be quite frankly useless. Frome there progress was definitley made on this specific project as I had to essentially re-vamp it, the new model is more or less like a guessing game, it gives a randomly gernerated binary number every time you refresh the page, and the user has to guess what its decimal version is. My next step is to have instructions specific to each binary number on how to convert it if the user gets it wrong, I may also do a decimal-binary guessing game as well. My key commit was actually making the decimal to binary converter before changing it inot a guessing game as that took the most work.\n",
    "\n",
    "Binary Logic:\n",
    "1. Random Binary Number Generation:\n",
    "- The function generateRandomBinary() generates a random binary number by utilizing JavaScript's Math functions (Math.random() and Math.floor()). It creates a string of 0s and 1s, showcasing binary logic by constructing a binary number randomly.\n",
    "2. Input Validation for Binary Guess:\n",
    "- The code checks if the user's input for guessing the decimal equivalent is composed only of digits (0-9). This validation ensures adherence to binary logic where only 0s and 1s are acceptable.\n",
    "\n",
    "Algorithm Usage:\n",
    "1. Positional Notation and Power Calculation:\n",
    "- The JavaScript code implements an algorithm to convert a randomly generated binary number into its decimal equivalent.\n",
    "- It uses the positional notation of binary numbers, assigning powers of 2 to each digit based on its position (from right to left).\n",
    "- The algorithm calculates the decimal equivalent by multiplying each binary digit by the corresponding power of 2 and summing up these values to get the final result.\n",
    "2. Comparison Algorithm for User's Guess:\n",
    "- The code compares the user's guessed decimal number with the actual decimal equivalent calculated from the randomly generated binary number.\n",
    "- This comparison algorithm determines whether the user's guess matches the calculated result, showcasing an algorithmic approach to validation and decision-making."
   ]
  },
  {
   "cell_type": "markdown",
   "metadata": {},
   "source": [
    "[Lincoln Tangibles](https://dantea-tech.github.io/GLAD//2023/11/30/binary-decimal.html)"
   ]
  },
  {
   "cell_type": "markdown",
   "metadata": {},
   "source": [
    "## Gurshawn- Text to Color(Steganography)\n",
    "How it works: A string is entered and each character is converted to 8 bit binary(groups of 3) and converts the binary string into rgb values which are displayed.\n",
    "Challenges: Some challenges and errors I faced were the colors showing up in extremely dull colors. This was because when using only 1 byte which would only have 2 levels, so the colors are all mostly black or white.\n",
    "Something to add: Something I can add to the feature is have a way to decrypt the colors in the images to display a message. For the encryption part I can add a default display color to represent letters if the string’s length isn’t divisible by 3. This way the whole string can be accounted for.\n",
    " Binary Logic usage and Algorithms: The code uses binary and algorithms by converting text characters into their binary representations and then grouping these binary values to form RGB color representations, which are then displayed using HTML canvas elements to visualize the converted text as a sequence of colors.\n",
    "  Key commit: https://github.com/DanteA-tech/GLAD/commit/43e41b3d44c0988c416dd5975503396963069e61"
   ]
  },
  {
   "cell_type": "markdown",
   "metadata": {},
   "source": [
    "[Gurshawn Tangibles](https://dantea-tech.github.io/GLAD//2023/11/15/txtcol.html)"
   ]
  },
  {
   "cell_type": "markdown",
   "metadata": {},
   "source": [
    "## Feedback .97/1 Sergi's group\n",
    "Lincoln's project: could add instructions on how to convert the binary numbers and integrate sass\n",
    "Gurshawn: Intergraet sass and add decryption for the images\n",
    "Ashwin: ASCII works very well and the sliders are a nice touch, could use more SASS\n",
    "Dante: Could add values for the RGB photos so it's easier to understand, but everything else is good. "
   ]
  }
 ],
 "metadata": {
  "language_info": {
   "name": "python"
  }
 },
 "nbformat": 4,
 "nbformat_minor": 2
}
