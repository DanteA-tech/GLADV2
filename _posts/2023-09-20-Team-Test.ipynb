{
 "cells": [
  {
   "cell_type": "markdown",
   "metadata": {},
   "source": [
    "---\n",
    "toc: false\n",
    "comments: false\n",
    "layout: post\n",
    "title: Team Test\n",
    "description: Fun Project\n",
    "type: hacks\n",
    "courses: { compsci: {week: 4} }\n",
    "---"
   ]
  },
  {
   "cell_type": "code",
   "execution_count": 1,
   "metadata": {},
   "outputs": [
    {
     "name": "stdout",
     "output_type": "stream",
     "text": [
      "The sum of numbers in the list is: 75\n"
     ]
    }
   ],
   "source": [
    "# Step 1: Create a list of numbers\n",
    "numbers = [5, 10, 15, 20, 25]\n",
    "# Step 2: Initialize a variable to store the sum\n",
    "total_sum = 0\n",
    "# Step 3: Use a for loop to iterate through the list\n",
    "for number in numbers:\n",
    "    # Step 4: Add the current number to the total_sum\n",
    "    total_sum += number\n",
    "# Step 5: Print the result\n",
    "print(\"The sum of numbers in the list is:\", total_sum)"
   ]
  },
  {
   "cell_type": "markdown",
   "metadata": {},
   "source": [
    "\n",
    "\n",
    "1. We start by creating a Python list named numbers that contains a series of integers.\n",
    "2. We initialize a variable called total_sum to store the sum of the numbers.This variable is initially set to 0.\n",
    "3. We use a for loop to iterate through each element in the numbers list. In each iteration, the current number is assigned to the number variable.\n",
    "4. Inside the loop, we add the current number to the total_sum. This is done with the += operator, which is a shorthand way of writing total_sum = total_sum + number. This step accumulates the sum as we iterate through the list.\n",
    "5. Finally, outside the loop, we print the result using the print function. The message \"The sum of numbers in the list is:\" is displayed along with the value of total_sum, which contains the sum of the numbers in the list.\n",
    "\n",
    "<br>\n",
    "\n",
    "When you run this program, it will calculate the sum of the numbers in the numbers list and print the result. In this example, the sum will be 75 (5 + 10 + 15 + 20 + 25), and that's what will be displayed by the print statement.\n"
   ]
  },
  {
   "cell_type": "code",
   "execution_count": null,
   "metadata": {},
   "outputs": [],
   "source": []
  }
 ],
 "metadata": {
  "kernelspec": {
   "display_name": "Python 3 (ipykernel)",
   "language": "python",
   "name": "python3"
  },
  "language_info": {
   "codemirror_mode": {
    "name": "ipython",
    "version": 3
   },
   "file_extension": ".py",
   "mimetype": "text/x-python",
   "name": "python",
   "nbconvert_exporter": "python",
   "pygments_lexer": "ipython3",
   "version": "3.10.12"
  }
 },
 "nbformat": 4,
 "nbformat_minor": 2
}
