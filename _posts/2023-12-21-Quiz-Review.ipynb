{
 "cells": [
  {
   "cell_type": "markdown",
   "metadata": {},
   "source": [
    "---\n",
    "toc: False\n",
    "layout: post\n",
    "hide: False\n",
    "title: 2020 College Board MC Reveiw\n",
    "description: Reflection on MC\n",
    "courses: {'compsci': {'week': 12}}\n",
    "type: tangibles\n",
    "---"
   ]
  },
  {
   "cell_type": "markdown",
   "metadata": {},
   "source": [
    "# College Board MC Review\n",
    "\n",
    "## Pre- Result Thoughts\n",
    "The first few questions were easy, but Question 5 got tricky because the answer I thought was correct wasn't there. Questions 6-8 were straightforward, and Question 9 talked about using two keys to encrypt data. The next set of questions (10-15) was pretty easy. Question 16 had some code that confused me, even after looking it up. Question 17-26 took a couple of minutes each, not too hard. Question 27 was about why computers can't solve every problem; I picked B because it seemed right. Question 28 was easy, and Question 29 explained lossless compression. Questions 34-37 were common sense, and Question 38 mentioned IPv6 having a longer address than IPv4. Questions 39-40 were straightforward. Question 41 was confusing, so I had to look it up. Questions 42-43 were easy, and Question 44 was a cool reference to our team teacher. Questions 45-48 were a bit challenging, maybe 7/10 difficulty. Question 49 talked about representing people with binary values, and I learned that 7 bits can cover up to 127 people. A lot of what I needed for this quiz came from team teachers, like creative commons, phishing, and IPv6. Questions 50-54 were easy, no need to look anything up. Question 55 was confusing about writing on a car, but after looking it up, the answer made sense. Questions 56-58 were straightforward. Question 59 explained open source software, and Questions 60-67 were about selecting two options each, and they were pretty easy.\n",
    "\n",
    "## Results\n",
    "The score I received was a 55/67 which I am pretty happy with.\n",
    "\n",
    "## Corrections\n",
    "- Q4: Cause of overflow error: D is incorrect because fractions are sometimes represented by decimal approximations that are subject to rounding errors, integers are not. The correct answer was C because overflow errors occur when an arithmetic operation results in a value outside the range of numbers that can be represented by a fixed number of bits.\n",
    "- Q24 Count by twos 10 times: C is wrong because the value of val starts at 0 and is repeatedly incremented by 2, so it counts even integers, not odd integers. The correct answer would be B. I read the question wrong and made a silly mistake on this question\n",
    "- Q26 Metadata for an image: B is incorrect because the date and time the image was created are considered descriptive information about the image, so they would be stored in the images metadata. The answer D, duplicate copies of the data is correct. \n",
    "- Q32 Calculate course grade: The answer B is incorrect. This code segment divides the sum of the scores by one less than the number of scores and then subtracts the lowest score, rather than averaging all but the lowest score. The correct answer is D\n",
    "- Q33 What can be determined from the course grade data: D is incorrect because the information can be determined by comparing each student’s original average to the course grade after the lowest score was dropped. The correct answer is A, since without knowing the individual assignment scores, the administrator is not able to determine any of the student’s individual scores other than the lowest score.\n",
    "- Q41 TrimLeft and TrimRight: The answer A is incorrect because I is not the only correct statement. The correct answer is C which includes I and III. Another silly mistake that came from not reading the question and the answers fully.\n",
    "- Q50 Reasonable time algorithms: Answer B was incorrect. Algorithm I accesses elements  times (twice for each of n elements), which is considered reasonable time. Algorithm II accesses elements (n times for each of n elements), which is considered reasonable time. Answer D, which was I, II, III was the correct answer. \n",
    "- Q51 Creative Commons: Answer B is incorrect. The benefits of Creative Commons are limited to works that are published with a Creative Commons license. Previously published works are subject to traditional copyright rules. I feel like I should have gotten this question correct, because of how we learned about this in the team teachers, however I got it wrong most likely because I was rushing. The correct answer was A\n",
    "- Q60 Number of elements in one list but not both: Answer C was incorrect because the code combines the 2 lists instead of just counting the numbers in one of the lists. The correct answer would have been D.\n",
    "- Q64 Error with multiplication using repeated addition: The correct answers for these questions would be B and D, however I choses B and C. C is incorrect because the numbers [-2, 5] would produce the correct output, while the question was asking for the options that would not result in the expected output.\n",
    "- Q65 Calls to concat and substring: For this question I chose B and D but the correct answers were B and C. D is incorrect because the code segment stores the substring \"jack\" in animal. It then concatenates \"jack\" and \"a\", storing the result \"jacka\" in animal. Lastly, it concatenates the substring \"lope\" and \"jacka\", storing the result \"lopejacka\" in animal. In answer C, the code segment stores the substring \"jack\" in animal. It then concatenates \"jack\" and \"a\", storing the result \"jacka\" in animal. Lastly, it concatenates \"jacka\" and the substring \"lope\", storing the result \"jackalope\" in animal, which is correct.\n",
    "\n",
    "## Final Thoughts\n",
    "\n",
    "I was pretty happy with my score, however I did make a lot of silly mistakes that could have been avoidable if I was paying a little more attention and taking my time. Overall the thing I need to work on the most is code segments and logic questions, because they take me the longest and confuse me the most. I might find some code logic practice quizzes online and get some extra practice for them."
   ]
  }
 ],
 "metadata": {
  "language_info": {
   "name": "python"
  },
  "orig_nbformat": 4
 },
 "nbformat": 4,
 "nbformat_minor": 2
}
